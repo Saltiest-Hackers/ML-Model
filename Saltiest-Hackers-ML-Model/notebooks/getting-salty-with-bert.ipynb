{
 "cells": [
  {
   "cell_type": "code",
   "execution_count": 1,
   "metadata": {},
   "outputs": [],
   "source": [
    "import re\n",
    "import pandas as pd\n",
    "import numpy as np\n",
    "# cleaning of html tags\n",
    "from bs4 import BeautifulSoup\n",
    "# stopwords\n",
    "from nltk.corpus import stopwords\n",
    "# tokenization\n",
    "# https://pypi.org/project/tokenizers/\n",
    "from tokenizers import (ByteLevelBPETokenizer,\n",
    "                            CharBPETokenizer,\n",
    "                            SentencePieceBPETokenizer,\n",
    "                            BertWordPieceTokenizer)"
   ]
  },
  {
   "cell_type": "code",
   "execution_count": 3,
   "metadata": {},
   "outputs": [
    {
     "name": "stdout",
     "output_type": "stream",
     "text": [
      "/home/btr-dev/wrkspc/prj/salty-hackers/ML-Model/Saltiest-Hackers-ML-Model\n"
     ]
    }
   ],
   "source": [
    "%cd .."
   ]
  },
  {
   "cell_type": "code",
   "execution_count": 4,
   "metadata": {},
   "outputs": [
    {
     "name": "stdout",
     "output_type": "stream",
     "text": [
      "data  models  notebooks  references  src\n"
     ]
    }
   ],
   "source": [
    "!ls"
   ]
  },
  {
   "cell_type": "code",
   "execution_count": 5,
   "metadata": {},
   "outputs": [
    {
     "data": {
      "text/plain": [
       "'data/raw/gcp-bq-full/1'"
      ]
     },
     "execution_count": 5,
     "metadata": {},
     "output_type": "execute_result"
    }
   ],
   "source": [
    "DIR = 'data/raw/gcp-bq-full/'\n",
    "\n",
    "FILES = [ str(f) for f in list(range(1,18))]\n",
    "DIR+FILES[0]"
   ]
  },
  {
   "cell_type": "code",
   "execution_count": 6,
   "metadata": {},
   "outputs": [
    {
     "data": {
      "text/html": [
       "<div>\n",
       "<style scoped>\n",
       "    .dataframe tbody tr th:only-of-type {\n",
       "        vertical-align: middle;\n",
       "    }\n",
       "\n",
       "    .dataframe tbody tr th {\n",
       "        vertical-align: top;\n",
       "    }\n",
       "\n",
       "    .dataframe thead th {\n",
       "        text-align: right;\n",
       "    }\n",
       "</style>\n",
       "<table border=\"1\" class=\"dataframe\">\n",
       "  <thead>\n",
       "    <tr style=\"text-align: right;\">\n",
       "      <th></th>\n",
       "      <th>title</th>\n",
       "      <th>url</th>\n",
       "      <th>text</th>\n",
       "      <th>dead</th>\n",
       "      <th>by</th>\n",
       "      <th>score</th>\n",
       "      <th>time</th>\n",
       "      <th>timestamp</th>\n",
       "      <th>type</th>\n",
       "      <th>id</th>\n",
       "      <th>parent</th>\n",
       "      <th>descendants</th>\n",
       "      <th>ranking</th>\n",
       "      <th>deleted</th>\n",
       "    </tr>\n",
       "  </thead>\n",
       "  <tbody>\n",
       "    <tr>\n",
       "      <th>0</th>\n",
       "      <td>NaN</td>\n",
       "      <td>NaN</td>\n",
       "      <td>I started to write a C++ template class that w...</td>\n",
       "      <td>NaN</td>\n",
       "      <td>cpeterso</td>\n",
       "      <td>NaN</td>\n",
       "      <td>1.338489e+09</td>\n",
       "      <td>2012-05-31 18:32:12 UTC</td>\n",
       "      <td>comment</td>\n",
       "      <td>4049595</td>\n",
       "      <td>4049139.0</td>\n",
       "      <td>NaN</td>\n",
       "      <td>NaN</td>\n",
       "      <td>NaN</td>\n",
       "    </tr>\n",
       "    <tr>\n",
       "      <th>1</th>\n",
       "      <td>NaN</td>\n",
       "      <td>NaN</td>\n",
       "      <td>&amp;gt; I&amp;#x27;m guessing over $200B of Amazon&amp;#x...</td>\n",
       "      <td>NaN</td>\n",
       "      <td>fweespeech</td>\n",
       "      <td>NaN</td>\n",
       "      <td>1.498437e+09</td>\n",
       "      <td>2017-06-26 00:33:02 UTC</td>\n",
       "      <td>comment</td>\n",
       "      <td>14633082</td>\n",
       "      <td>14632856.0</td>\n",
       "      <td>NaN</td>\n",
       "      <td>NaN</td>\n",
       "      <td>NaN</td>\n",
       "    </tr>\n",
       "    <tr>\n",
       "      <th>2</th>\n",
       "      <td>NaN</td>\n",
       "      <td>NaN</td>\n",
       "      <td>I don&amp;#x27;t know what to say - that just soun...</td>\n",
       "      <td>NaN</td>\n",
       "      <td>chrisseaton</td>\n",
       "      <td>NaN</td>\n",
       "      <td>1.552875e+09</td>\n",
       "      <td>2019-03-18 02:17:05 UTC</td>\n",
       "      <td>comment</td>\n",
       "      <td>19418238</td>\n",
       "      <td>19418216.0</td>\n",
       "      <td>NaN</td>\n",
       "      <td>NaN</td>\n",
       "      <td>NaN</td>\n",
       "    </tr>\n",
       "    <tr>\n",
       "      <th>3</th>\n",
       "      <td>NaN</td>\n",
       "      <td>NaN</td>\n",
       "      <td>if you&amp;#x27;re going to make the accusation th...</td>\n",
       "      <td>NaN</td>\n",
       "      <td>Aloha</td>\n",
       "      <td>NaN</td>\n",
       "      <td>1.515732e+09</td>\n",
       "      <td>2018-01-12 04:37:28 UTC</td>\n",
       "      <td>comment</td>\n",
       "      <td>16130436</td>\n",
       "      <td>16130413.0</td>\n",
       "      <td>NaN</td>\n",
       "      <td>NaN</td>\n",
       "      <td>NaN</td>\n",
       "    </tr>\n",
       "    <tr>\n",
       "      <th>4</th>\n",
       "      <td>NaN</td>\n",
       "      <td>NaN</td>\n",
       "      <td>With the current trend of simplifying your int...</td>\n",
       "      <td>NaN</td>\n",
       "      <td>drill_sarge</td>\n",
       "      <td>NaN</td>\n",
       "      <td>1.382406e+09</td>\n",
       "      <td>2013-10-22 01:40:09 UTC</td>\n",
       "      <td>comment</td>\n",
       "      <td>6589315</td>\n",
       "      <td>6588825.0</td>\n",
       "      <td>NaN</td>\n",
       "      <td>NaN</td>\n",
       "      <td>NaN</td>\n",
       "    </tr>\n",
       "  </tbody>\n",
       "</table>\n",
       "</div>"
      ],
      "text/plain": [
       "  title  url                                               text dead  \\\n",
       "0   NaN  NaN  I started to write a C++ template class that w...  NaN   \n",
       "1   NaN  NaN  &gt; I&#x27;m guessing over $200B of Amazon&#x...  NaN   \n",
       "2   NaN  NaN  I don&#x27;t know what to say - that just soun...  NaN   \n",
       "3   NaN  NaN  if you&#x27;re going to make the accusation th...  NaN   \n",
       "4   NaN  NaN  With the current trend of simplifying your int...  NaN   \n",
       "\n",
       "            by  score          time                timestamp     type  \\\n",
       "0     cpeterso    NaN  1.338489e+09  2012-05-31 18:32:12 UTC  comment   \n",
       "1   fweespeech    NaN  1.498437e+09  2017-06-26 00:33:02 UTC  comment   \n",
       "2  chrisseaton    NaN  1.552875e+09  2019-03-18 02:17:05 UTC  comment   \n",
       "3        Aloha    NaN  1.515732e+09  2018-01-12 04:37:28 UTC  comment   \n",
       "4  drill_sarge    NaN  1.382406e+09  2013-10-22 01:40:09 UTC  comment   \n",
       "\n",
       "         id      parent  descendants  ranking deleted  \n",
       "0   4049595   4049139.0          NaN      NaN     NaN  \n",
       "1  14633082  14632856.0          NaN      NaN     NaN  \n",
       "2  19418238  19418216.0          NaN      NaN     NaN  \n",
       "3  16130436  16130413.0          NaN      NaN     NaN  \n",
       "4   6589315   6588825.0          NaN      NaN     NaN  "
      ]
     },
     "execution_count": 6,
     "metadata": {},
     "output_type": "execute_result"
    }
   ],
   "source": [
    "df = pd.read_csv(DIR+FILES[0])\n",
    "df.head()"
   ]
  },
  {
   "cell_type": "markdown",
   "metadata": {},
   "source": [
    "## SO after a few days of reading I think I finally got it\n",
    "I will start by creating a training set. I will loop over the collected data, which is comprised of a shuffled set of all comments from the Hacker News website, process the text and select for a few requirements:\n",
    "- We should exclude comments with low word counts so that the final model doesn't tune its self to any word in particular\n",
    "- We should aim for the highest amount of unique words possible\n",
    "- "
   ]
  },
  {
   "cell_type": "code",
   "execution_count": 7,
   "metadata": {},
   "outputs": [],
   "source": [
    "def scrub(doc):\n",
    "    return re.sub(r'[^A-Za-z\\s]', '', str(doc))\n",
    "\n",
    "def process_text(df):\n",
    "    # only those comments with not null values\n",
    "    df = df.loc[df['type'] == 'comment'][['text']]\n",
    "    df = df.dropna()    \n",
    "    # clean the text using bs4\n",
    "    df['text'] = df['text'].apply(lambda x: BeautifulSoup(x).get_text())\n",
    "    # regex remove all non-letters && to lower\n",
    "    df['text'] = df['text'].apply(scrub)\n",
    "    df['text'] = df['text'].str.lower()\n",
    "    return df\n",
    "\n",
    "\n",
    "def remove_stops(doc):\n",
    "    # get word frequencies in document\n",
    "    word_freq = pd.Series(' '.join(df['text'].str).split()).value_counts()\n",
    "    # make lists of most common words and words that appear once only\n",
    "    common = list(word_freq[:10].index)\n",
    "    rare = list(word_freq[word_freq.values < 2].index)\n",
    "    # start with NLTK stopwords\n",
    "    stop_words = list(nltk.corpus.stopwords.words('english'))    \n",
    "    # add the common and rare words to the set\n",
    "    stop_words = set(stop_words + common + rare)\n",
    "    # use regex for stopword removal\n",
    "    pat = r'\\b(?:{})\\b'.format('|'.join(stop_words))    \n",
    "    df['text'] = df['text'].str.replace(pat, '')\n",
    "    df['text'] = df['text'].str.replace(r'\\s+', ' ')\n",
    "    # retaining comments with 30 or more words\n",
    "    df = df.loc[df['text'].apply(lambda x: len(str(x).split(\" \"))).values > 30] \n",
    "    \n",
    "    return df"
   ]
  },
  {
   "cell_type": "code",
   "execution_count": 7,
   "metadata": {},
   "outputs": [
    {
     "name": "stdout",
     "output_type": "stream",
     "text": [
      "data  models  notebooks  references  src\n"
     ]
    }
   ],
   "source": [
    "!ls"
   ]
  },
  {
   "cell_type": "code",
   "execution_count": 8,
   "metadata": {},
   "outputs": [],
   "source": [
    "samp = df.sample(100)"
   ]
  },
  {
   "cell_type": "code",
   "execution_count": 10,
   "metadata": {},
   "outputs": [],
   "source": [
    "df1 = process_text(samp)"
   ]
  },
  {
   "cell_type": "code",
   "execution_count": 11,
   "metadata": {},
   "outputs": [
    {
     "data": {
      "text/html": [
       "<div>\n",
       "<style scoped>\n",
       "    .dataframe tbody tr th:only-of-type {\n",
       "        vertical-align: middle;\n",
       "    }\n",
       "\n",
       "    .dataframe tbody tr th {\n",
       "        vertical-align: top;\n",
       "    }\n",
       "\n",
       "    .dataframe thead th {\n",
       "        text-align: right;\n",
       "    }\n",
       "</style>\n",
       "<table border=\"1\" class=\"dataframe\">\n",
       "  <thead>\n",
       "    <tr style=\"text-align: right;\">\n",
       "      <th></th>\n",
       "      <th>text</th>\n",
       "    </tr>\n",
       "  </thead>\n",
       "  <tbody>\n",
       "    <tr>\n",
       "      <th>506826</th>\n",
       "      <td>is happening with bitcoin and toryou cant cen...</td>\n",
       "    </tr>\n",
       "    <tr>\n",
       "      <th>513218</th>\n",
       "      <td>have you actually tried it i dont really under...</td>\n",
       "    </tr>\n",
       "    <tr>\n",
       "      <th>38767</th>\n",
       "      <td>no google makes money off connecting ads to pr...</td>\n",
       "    </tr>\n",
       "    <tr>\n",
       "      <th>1063988</th>\n",
       "      <td>there was not i appreciate your helpful attitu...</td>\n",
       "    </tr>\n",
       "    <tr>\n",
       "      <th>1252538</th>\n",
       "      <td>i took a hybrid course which is online but you...</td>\n",
       "    </tr>\n",
       "    <tr>\n",
       "      <th>...</th>\n",
       "      <td>...</td>\n",
       "    </tr>\n",
       "    <tr>\n",
       "      <th>589899</th>\n",
       "      <td>dont forget the part where uber is selling the...</td>\n",
       "    </tr>\n",
       "    <tr>\n",
       "      <th>316361</th>\n",
       "      <td>dude i get what youre saying but youre like a ...</td>\n",
       "    </tr>\n",
       "    <tr>\n",
       "      <th>1235781</th>\n",
       "      <td>combining abbr and conceal could indeed reduce...</td>\n",
       "    </tr>\n",
       "    <tr>\n",
       "      <th>524577</th>\n",
       "      <td>as far as i know icbms are still unstoppable o...</td>\n",
       "    </tr>\n",
       "    <tr>\n",
       "      <th>694797</th>\n",
       "      <td>appreciate the comments particularly those tha...</td>\n",
       "    </tr>\n",
       "  </tbody>\n",
       "</table>\n",
       "<p>81 rows × 1 columns</p>\n",
       "</div>"
      ],
      "text/plain": [
       "                                                      text\n",
       "506826    is happening with bitcoin and toryou cant cen...\n",
       "513218   have you actually tried it i dont really under...\n",
       "38767    no google makes money off connecting ads to pr...\n",
       "1063988  there was not i appreciate your helpful attitu...\n",
       "1252538  i took a hybrid course which is online but you...\n",
       "...                                                    ...\n",
       "589899   dont forget the part where uber is selling the...\n",
       "316361   dude i get what youre saying but youre like a ...\n",
       "1235781  combining abbr and conceal could indeed reduce...\n",
       "524577   as far as i know icbms are still unstoppable o...\n",
       "694797   appreciate the comments particularly those tha...\n",
       "\n",
       "[81 rows x 1 columns]"
      ]
     },
     "execution_count": 11,
     "metadata": {},
     "output_type": "execute_result"
    }
   ],
   "source": [
    "df1"
   ]
  },
  {
   "cell_type": "code",
   "execution_count": 17,
   "metadata": {},
   "outputs": [
    {
     "data": {
      "text/plain": [
       "'I started to write a C++ template class that would implement strongly-typed ints (so Celsius and Fahrenheit types could behave like ints, but have distinct types).I gave up after this \"simple\" idea approached 200 lines of code implementing all the operator overloads. I guess the lesson is that primitives are complex, even if you just want to give them a new name. Also, the expression int/int produces an int, but what should the expression FahrenheitInt/FahrenheitInt produce? A unitless int? A FahrenheitInt?'"
      ]
     },
     "execution_count": 17,
     "metadata": {},
     "output_type": "execute_result"
    }
   ],
   "source": [
    "BeautifulSoup(df['text'].values[0]).get_text()"
   ]
  },
  {
   "cell_type": "code",
   "execution_count": 19,
   "metadata": {},
   "outputs": [],
   "source": [
    "text = df1['text'].values[0]"
   ]
  },
  {
   "cell_type": "code",
   "execution_count": null,
   "metadata": {},
   "outputs": [
    {
     "name": "stderr",
     "output_type": "stream",
     "text": [
      "/home/btr-dev/res/miniconda3/envs/salty-model/lib/python3.7/site-packages/ipykernel_launcher.py:1: FutureWarning: Columnar iteration over characters will be deprecated in future releases.\n",
      "  \"\"\"Entry point for launching an IPython kernel.\n"
     ]
    }
   ],
   "source": [
    "word_freq = pd.Series(' '.join(df1['text'].str).split()).value_counts()"
   ]
  },
  {
   "cell_type": "code",
   "execution_count": 18,
   "metadata": {},
   "outputs": [],
   "source": [
    "tokenizer = BertWordPieceTokenizer(\"data/external/vocab/bert-base-uncased-vocab.txt\", lowercase=True)"
   ]
  },
  {
   "cell_type": "code",
   "execution_count": 20,
   "metadata": {},
   "outputs": [],
   "source": [
    "encoded = tokenizer.encode(text)"
   ]
  },
  {
   "cell_type": "code",
   "execution_count": 21,
   "metadata": {},
   "outputs": [
    {
     "data": {
      "text/plain": [
       "['[CLS]',\n",
       " 'is',\n",
       " 'happening',\n",
       " 'with',\n",
       " 'bit',\n",
       " '##co',\n",
       " '##in',\n",
       " 'and',\n",
       " 'tory',\n",
       " '##ou',\n",
       " 'can',\n",
       " '##t',\n",
       " 'central',\n",
       " '##ize',\n",
       " 'bit',\n",
       " '##co',\n",
       " '##in',\n",
       " 'that',\n",
       " 'would',\n",
       " 'be',\n",
       " 'like',\n",
       " 'trying',\n",
       " 'to',\n",
       " 'central',\n",
       " '##ize',\n",
       " 'pp',\n",
       " 'sharing',\n",
       " 'the',\n",
       " 'protocol',\n",
       " 'doesn',\n",
       " '##t',\n",
       " 'allow',\n",
       " 'it',\n",
       " 'an',\n",
       " 'alternative',\n",
       " 'digital',\n",
       " 'currency',\n",
       " 'may',\n",
       " 'emerge',\n",
       " 'that',\n",
       " 'is',\n",
       " 'centralized',\n",
       " 'or',\n",
       " 'more',\n",
       " 'likely',\n",
       " 'a',\n",
       " 'single',\n",
       " 'currency',\n",
       " 'exchange',\n",
       " 'will',\n",
       " 'dominate',\n",
       " 'bit',\n",
       " '##co',\n",
       " '##in',\n",
       " 'but',\n",
       " 'in',\n",
       " 'reality',\n",
       " 'exchanges',\n",
       " 'would',\n",
       " 'become',\n",
       " 'obsolete',\n",
       " 'if',\n",
       " 'bit',\n",
       " '##co',\n",
       " '##in',\n",
       " 'really',\n",
       " 'took',\n",
       " 'off',\n",
       " 'you',\n",
       " 'would',\n",
       " 'just',\n",
       " 'get',\n",
       " 'paid',\n",
       " 'and',\n",
       " 'purchase',\n",
       " 'goods',\n",
       " 'all',\n",
       " 'in',\n",
       " 'bit',\n",
       " '##co',\n",
       " '##in',\n",
       " 'no',\n",
       " 'need',\n",
       " 'to',\n",
       " 'exchange',\n",
       " 'to',\n",
       " 'another',\n",
       " 'currency',\n",
       " '[SEP]']"
      ]
     },
     "execution_count": 21,
     "metadata": {},
     "output_type": "execute_result"
    }
   ],
   "source": [
    "encoded.tokens"
   ]
  },
  {
   "cell_type": "code",
   "execution_count": 10,
   "metadata": {},
   "outputs": [
    {
     "data": {
      "text/plain": [
       "'I started to write a C++ template class that would implement strongly-typed ints (so Celsius and Fahrenheit types could behave like ints, but have distinct types).I gave up after this \"simple\" idea approached 200 lines of code implementing all the operator overloads. I guess the lesson is that primitives are complex, even if you just want to give them a new name. Also, the expression int/int produces an int, but what should the expression FahrenheitInt/FahrenheitInt produce? A unitless int? A FahrenheitInt?'"
      ]
     },
     "execution_count": 10,
     "metadata": {},
     "output_type": "execute_result"
    }
   ],
   "source": [
    "text = BeautifulSoup(df['text'][0]).get_text()\n",
    "text"
   ]
  },
  {
   "cell_type": "code",
   "execution_count": 13,
   "metadata": {},
   "outputs": [],
   "source": [
    "text = re.sub(r'[^A-Za-z\\s]', '', df['text'][0]).lower()"
   ]
  },
  {
   "cell_type": "code",
   "execution_count": 34,
   "metadata": {},
   "outputs": [
    {
     "data": {
      "text/plain": [
       "['i',\n",
       " 'started',\n",
       " 'to',\n",
       " 'write',\n",
       " 'a',\n",
       " 'c',\n",
       " 'template',\n",
       " 'class',\n",
       " 'that',\n",
       " 'would',\n",
       " 'implement',\n",
       " 'stronglytyped',\n",
       " 'ints',\n",
       " 'so',\n",
       " 'celsius',\n",
       " 'and',\n",
       " 'fahrenheit',\n",
       " 'types',\n",
       " 'could',\n",
       " 'behave',\n",
       " 'like',\n",
       " 'ints',\n",
       " 'but',\n",
       " 'have',\n",
       " 'distinct',\n",
       " 'typespi',\n",
       " 'gave',\n",
       " 'up',\n",
       " 'after',\n",
       " 'this',\n",
       " 'simple',\n",
       " 'idea',\n",
       " 'approached',\n",
       " 'lines',\n",
       " 'of',\n",
       " 'code',\n",
       " 'implementing',\n",
       " 'all',\n",
       " 'the',\n",
       " 'operator',\n",
       " 'overloads',\n",
       " 'i',\n",
       " 'guess',\n",
       " 'the',\n",
       " 'lesson',\n",
       " 'is',\n",
       " 'that',\n",
       " 'primitives',\n",
       " 'are',\n",
       " 'complex',\n",
       " 'even',\n",
       " 'if',\n",
       " 'you',\n",
       " 'just',\n",
       " 'want',\n",
       " 'to',\n",
       " 'give',\n",
       " 'them',\n",
       " 'a',\n",
       " 'new',\n",
       " 'name',\n",
       " 'also',\n",
       " 'the',\n",
       " 'expression',\n",
       " 'iintinti',\n",
       " 'produces',\n",
       " 'an',\n",
       " 'int',\n",
       " 'but',\n",
       " 'what',\n",
       " 'should',\n",
       " 'the',\n",
       " 'expression',\n",
       " 'ifahrenheitintfahrenheitinti',\n",
       " 'produce',\n",
       " 'a',\n",
       " 'unitless',\n",
       " 'int',\n",
       " 'a',\n",
       " 'fahrenheitint']"
      ]
     },
     "execution_count": 34,
     "metadata": {},
     "output_type": "execute_result"
    }
   ],
   "source": [
    "regexp_tokenize(text, pattern = '\\s', gaps=True)"
   ]
  },
  {
   "cell_type": "code",
   "execution_count": 29,
   "metadata": {},
   "outputs": [
    {
     "data": {
      "text/plain": [
       "0          I started to write a C++ template class that w...\n",
       "1          &gt; I&#x27;m guessing over $200B of Amazon&#x...\n",
       "2          I don&#x27;t know what to say - that just soun...\n",
       "4          With the current trend of simplifying your int...\n",
       "10         I&#x27;m sure there are many variations to thi...\n",
       "                                 ...                        \n",
       "1319844    I still get a small thrill from stepping onto ...\n",
       "1319852    Diligent Robotics | Austin, TX | Robotics Soft...\n",
       "1319854    Wait, were you an OA customer? Tell us more!<p...\n",
       "1319855    At least the fear of a world destroying AI is ...\n",
       "1319856    This leads to such elegant conflicts as: what ...\n",
       "Name: text, Length: 654405, dtype: object"
      ]
     },
     "execution_count": 29,
     "metadata": {},
     "output_type": "execute_result"
    }
   ],
   "source": [
    "df.loc[df['text'].apply(lambda x: len(str(x).split(\" \"))).values > 30]"
   ]
  },
  {
   "cell_type": "code",
   "execution_count": 21,
   "metadata": {},
   "outputs": [
    {
     "data": {
      "text/plain": [
       "0          I started to write a C++ template class that w...\n",
       "1          &gt; I&#x27;m guessing over $200B of Amazon&#x...\n",
       "2          I don&#x27;t know what to say - that just soun...\n",
       "3          if you&#x27;re going to make the accusation th...\n",
       "4          With the current trend of simplifying your int...\n",
       "                                 ...                        \n",
       "1319853    Good, get rid of duplicate products, makes sense.\n",
       "1319854    Wait, were you an OA customer? Tell us more!<p...\n",
       "1319855    At least the fear of a world destroying AI is ...\n",
       "1319856    This leads to such elegant conflicts as: what ...\n",
       "1319857                                                  NaN\n",
       "Name: text, Length: 1319858, dtype: object"
      ]
     },
     "execution_count": 21,
     "metadata": {},
     "output_type": "execute_result"
    }
   ],
   "source": [
    "df['text']"
   ]
  },
  {
   "cell_type": "code",
   "execution_count": 26,
   "metadata": {},
   "outputs": [],
   "source": [
    "soup = BeautifulSoup(['text'][0])"
   ]
  },
  {
   "cell_type": "code",
   "execution_count": 9,
   "metadata": {},
   "outputs": [
    {
     "data": {
      "text/plain": [
       "'i started to write a c++ template class that would implement strongly-typed ints (so celsius and fahrenheit types could behave like ints, but have distinct types).<p>i gave up after this \"simple\" idea approached 200 lines of code implementing all the operator overloads. i guess the lesson is that primitives are complex, even if you just want to give them a new name. also, the expression <i>int/int</i> produces an int, but what should the expression <i>fahrenheitint/fahrenheitint</i> produce? a unitless int? a fahrenheitint?'"
      ]
     },
     "execution_count": 9,
     "metadata": {},
     "output_type": "execute_result"
    }
   ],
   "source": [
    "df['text'][0].lower()"
   ]
  },
  {
   "cell_type": "code",
   "execution_count": 16,
   "metadata": {},
   "outputs": [
    {
     "data": {
      "text/plain": [
       "'I started to write a C++ template class that would implement strongly-typed ints (so Celsius and Fahrenheit types could behave like ints, but have distinct types).I gave up after this \"simple\" idea approached 200 lines of code implementing all the operator overloads. I guess the lesson is that primitives are complex, even if you just want to give them a new name. Also, the expression int/int produces an int, but what should the expression FahrenheitInt/FahrenheitInt produce? A unitless int? A FahrenheitInt?'"
      ]
     },
     "execution_count": 16,
     "metadata": {},
     "output_type": "execute_result"
    }
   ],
   "source": [
    "soup.get_text()"
   ]
  },
  {
   "cell_type": "code",
   "execution_count": null,
   "metadata": {},
   "outputs": [],
   "source": []
  }
 ],
 "metadata": {
  "kernelspec": {
   "display_name": "salty-model",
   "language": "python",
   "name": "salty-mle"
  },
  "language_info": {
   "codemirror_mode": {
    "name": "ipython",
    "version": 3
   },
   "file_extension": ".py",
   "mimetype": "text/x-python",
   "name": "python",
   "nbconvert_exporter": "python",
   "pygments_lexer": "ipython3",
   "version": "3.7.6"
  }
 },
 "nbformat": 4,
 "nbformat_minor": 4
}
