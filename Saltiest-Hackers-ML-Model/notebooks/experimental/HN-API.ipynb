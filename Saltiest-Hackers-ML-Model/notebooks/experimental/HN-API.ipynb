{
 "cells": [
  {
   "cell_type": "markdown",
   "metadata": {},
   "source": [
    "### Initial experimentation using Hacker News API and returned data\n",
    "\n",
    "##### offical docs -> https://github.com/HackerNews/API\n",
    "##### .raml -> https://api.stoplight.io/v1/versions/DaBbQv9WoET786zHn/export/raml.yaml"
   ]
  },
  {
   "cell_type": "code",
   "execution_count": 12,
   "metadata": {},
   "outputs": [],
   "source": [
    "import pandas as pd\n",
    "import requests"
   ]
  },
  {
   "cell_type": "markdown",
   "metadata": {},
   "source": [
    "```python\n",
    "hnapi_base = 'https://hacker-news.firebaseio.com/v0/'\n",
    "\n",
    "latest = hnapi_base + 'maxitem.json'\n",
    "\n",
    "def hit(endpoint):\n",
    "    return requests.get(endpoint).json()\n",
    "\n",
    "limit = 10000\n",
    "\n",
    "max_uri = hit(latest)\n",
    "min_uri = max_uri - limit\n",
    "\n",
    "batch = list(range(min_uri, max_uri+1))\n",
    "comments = []\n",
    "\n",
    "for item in batch:    \n",
    "    uri = hnapi_base+f'item/{item}.json'\n",
    "    response = requests.get(uri).json()\n",
    "    \n",
    "    if response is None:\n",
    "        continue\n",
    "\n",
    "    comment = True if response['type'] == 'comment' else False\n",
    "\n",
    "\n",
    "    if not comment:\n",
    "        continue\n",
    "    comments.append(pd.Series(response))\n",
    "\n",
    "\n",
    "df = pd.DataFrame(comments)\n",
    "```"
   ]
  },
  {
   "cell_type": "code",
   "execution_count": 13,
   "metadata": {},
   "outputs": [
    {
     "data": {
      "text/html": [
       "<div>\n",
       "<style scoped>\n",
       "    .dataframe tbody tr th:only-of-type {\n",
       "        vertical-align: middle;\n",
       "    }\n",
       "\n",
       "    .dataframe tbody tr th {\n",
       "        vertical-align: top;\n",
       "    }\n",
       "\n",
       "    .dataframe thead th {\n",
       "        text-align: right;\n",
       "    }\n",
       "</style>\n",
       "<table border=\"1\" class=\"dataframe\">\n",
       "  <thead>\n",
       "    <tr style=\"text-align: right;\">\n",
       "      <th></th>\n",
       "      <th>id</th>\n",
       "      <th>by</th>\n",
       "      <th>time</th>\n",
       "      <th>parent</th>\n",
       "      <th>text</th>\n",
       "      <th>kids</th>\n",
       "      <th>deleted</th>\n",
       "    </tr>\n",
       "  </thead>\n",
       "  <tbody>\n",
       "    <tr>\n",
       "      <th>0</th>\n",
       "      <td>22445632</td>\n",
       "      <td>Apocryphon</td>\n",
       "      <td>1582918645</td>\n",
       "      <td>22443772</td>\n",
       "      <td>Andrew Walz&amp;#x2F;Deez Nuts unity ticket 2020</td>\n",
       "      <td>NaN</td>\n",
       "      <td>NaN</td>\n",
       "    </tr>\n",
       "    <tr>\n",
       "      <th>1</th>\n",
       "      <td>22445633</td>\n",
       "      <td>Animats</td>\n",
       "      <td>1582918658</td>\n",
       "      <td>22440816</td>\n",
       "      <td>Those are called &amp;quot;multi-chip modules&amp;quot...</td>\n",
       "      <td>NaN</td>\n",
       "      <td>NaN</td>\n",
       "    </tr>\n",
       "    <tr>\n",
       "      <th>2</th>\n",
       "      <td>22445634</td>\n",
       "      <td>munk-a</td>\n",
       "      <td>1582918668</td>\n",
       "      <td>22445244</td>\n",
       "      <td>I also generally think that writing boilerplat...</td>\n",
       "      <td>NaN</td>\n",
       "      <td>NaN</td>\n",
       "    </tr>\n",
       "  </tbody>\n",
       "</table>\n",
       "</div>"
      ],
      "text/plain": [
       "         id          by        time    parent  \\\n",
       "0  22445632  Apocryphon  1582918645  22443772   \n",
       "1  22445633     Animats  1582918658  22440816   \n",
       "2  22445634      munk-a  1582918668  22445244   \n",
       "\n",
       "                                                text kids deleted  \n",
       "0       Andrew Walz&#x2F;Deez Nuts unity ticket 2020  NaN     NaN  \n",
       "1  Those are called &quot;multi-chip modules&quot...  NaN     NaN  \n",
       "2  I also generally think that writing boilerplat...  NaN     NaN  "
      ]
     },
     "execution_count": 13,
     "metadata": {},
     "output_type": "execute_result"
    }
   ],
   "source": [
    "df = pd.read_csv('../data/raw/minimal.csv')\n",
    "df.head(3)"
   ]
  },
  {
   "cell_type": "code",
   "execution_count": 14,
   "metadata": {},
   "outputs": [
    {
     "data": {
      "text/plain": [
       "0         Andrew Walz&#x2F;Deez Nuts unity ticket 2020\n",
       "1    Those are called &quot;multi-chip modules&quot...\n",
       "2    I also generally think that writing boilerplat...\n",
       "3    Just wanted to say this is what I was looking ...\n",
       "4    This is the article Day 4. For a bit of contex...\n",
       "5    Reminds me of when Microsoft took over.  Many ...\n",
       "6    &gt; Try the same thing on Mission, Howard, Fo...\n",
       "7    I remember one looking through the rule book f...\n",
       "8    As a LastPass user, my main defense against th...\n",
       "9    I think my opinion is biased because I know Re...\n",
       "Name: text, dtype: object"
      ]
     },
     "execution_count": 14,
     "metadata": {},
     "output_type": "execute_result"
    }
   ],
   "source": [
    "df.text[:10]"
   ]
  },
  {
   "cell_type": "code",
   "execution_count": 15,
   "metadata": {},
   "outputs": [
    {
     "data": {
      "text/plain": [
       "anonsivalley652    37\n",
       "saagarjha          36\n",
       "DoreenMichele      30\n",
       "dang               28\n",
       "kick               28\n",
       "                   ..\n",
       "yoaviram            1\n",
       "saaaaaam            1\n",
       "davidwihl           1\n",
       "yashap              1\n",
       "dna_polymerase      1\n",
       "Name: by, Length: 3976, dtype: int64"
      ]
     },
     "execution_count": 15,
     "metadata": {},
     "output_type": "execute_result"
    }
   ],
   "source": [
    "df.by.value_counts()"
   ]
  },
  {
   "cell_type": "code",
   "execution_count": 16,
   "metadata": {},
   "outputs": [
    {
     "name": "stdout",
     "output_type": "stream",
     "text": [
      "2020-02-28 19:37:25\n",
      "2020-03-01 07:23:24\n"
     ]
    }
   ],
   "source": [
    "import datetime as dt\n",
    "\n",
    "# checking to make sure there are no issues with unix timestamp\n",
    "\n",
    "print(pd.to_datetime(df.time.min(), unit='s'))\n",
    "print(pd.to_datetime(df.time.max(), unit='s'))"
   ]
  },
  {
   "cell_type": "code",
   "execution_count": 17,
   "metadata": {},
   "outputs": [
    {
     "data": {
      "text/plain": [
       "id          int64\n",
       "by         object\n",
       "time        int64\n",
       "parent      int64\n",
       "text       object\n",
       "kids       object\n",
       "deleted    object\n",
       "dtype: object"
      ]
     },
     "execution_count": 17,
     "metadata": {},
     "output_type": "execute_result"
    }
   ],
   "source": [
    "df.dtypes"
   ]
  },
  {
   "cell_type": "code",
   "execution_count": 18,
   "metadata": {},
   "outputs": [
    {
     "data": {
      "text/plain": [
       "id            0\n",
       "by          251\n",
       "time          0\n",
       "parent        0\n",
       "text        251\n",
       "kids       5109\n",
       "deleted    8571\n",
       "dtype: int64"
      ]
     },
     "execution_count": 18,
     "metadata": {},
     "output_type": "execute_result"
    }
   ],
   "source": [
    "df.isnull().sum()"
   ]
  },
  {
   "cell_type": "markdown",
   "metadata": {},
   "source": [
    "### Deleted posts retain some metadata but nothing useful to us at this point"
   ]
  },
  {
   "cell_type": "code",
   "execution_count": 19,
   "metadata": {},
   "outputs": [],
   "source": [
    "deleted = df.loc[df['deleted'].isnull() == False][['deleted', 'by']]"
   ]
  },
  {
   "cell_type": "code",
   "execution_count": 20,
   "metadata": {},
   "outputs": [],
   "source": [
    "if deleted['by'].isnull().sum() == len(deleted):\n",
    "    df.drop(columns='deleted', inplace = True)"
   ]
  },
  {
   "cell_type": "code",
   "execution_count": 21,
   "metadata": {},
   "outputs": [
    {
     "data": {
      "text/html": [
       "<div>\n",
       "<style scoped>\n",
       "    .dataframe tbody tr th:only-of-type {\n",
       "        vertical-align: middle;\n",
       "    }\n",
       "\n",
       "    .dataframe tbody tr th {\n",
       "        vertical-align: top;\n",
       "    }\n",
       "\n",
       "    .dataframe thead th {\n",
       "        text-align: right;\n",
       "    }\n",
       "</style>\n",
       "<table border=\"1\" class=\"dataframe\">\n",
       "  <thead>\n",
       "    <tr style=\"text-align: right;\">\n",
       "      <th></th>\n",
       "      <th>id</th>\n",
       "      <th>by</th>\n",
       "      <th>time</th>\n",
       "      <th>parent</th>\n",
       "      <th>text</th>\n",
       "      <th>kids</th>\n",
       "    </tr>\n",
       "  </thead>\n",
       "  <tbody>\n",
       "    <tr>\n",
       "      <th>29</th>\n",
       "      <td>22445669</td>\n",
       "      <td>NaN</td>\n",
       "      <td>1582918891</td>\n",
       "      <td>22445076</td>\n",
       "      <td>NaN</td>\n",
       "      <td>NaN</td>\n",
       "    </tr>\n",
       "    <tr>\n",
       "      <th>46</th>\n",
       "      <td>22445688</td>\n",
       "      <td>NaN</td>\n",
       "      <td>1582919069</td>\n",
       "      <td>22440816</td>\n",
       "      <td>NaN</td>\n",
       "      <td>NaN</td>\n",
       "    </tr>\n",
       "    <tr>\n",
       "      <th>96</th>\n",
       "      <td>22445751</td>\n",
       "      <td>NaN</td>\n",
       "      <td>1582919555</td>\n",
       "      <td>22443363</td>\n",
       "      <td>NaN</td>\n",
       "      <td>NaN</td>\n",
       "    </tr>\n",
       "    <tr>\n",
       "      <th>111</th>\n",
       "      <td>22445767</td>\n",
       "      <td>NaN</td>\n",
       "      <td>1582919643</td>\n",
       "      <td>22444523</td>\n",
       "      <td>NaN</td>\n",
       "      <td>NaN</td>\n",
       "    </tr>\n",
       "    <tr>\n",
       "      <th>161</th>\n",
       "      <td>22445824</td>\n",
       "      <td>NaN</td>\n",
       "      <td>1582920121</td>\n",
       "      <td>22443968</td>\n",
       "      <td>NaN</td>\n",
       "      <td>NaN</td>\n",
       "    </tr>\n",
       "    <tr>\n",
       "      <th>...</th>\n",
       "      <td>...</td>\n",
       "      <td>...</td>\n",
       "      <td>...</td>\n",
       "      <td>...</td>\n",
       "      <td>...</td>\n",
       "      <td>...</td>\n",
       "    </tr>\n",
       "    <tr>\n",
       "      <th>8467</th>\n",
       "      <td>22455230</td>\n",
       "      <td>NaN</td>\n",
       "      <td>1583039390</td>\n",
       "      <td>22455128</td>\n",
       "      <td>NaN</td>\n",
       "      <td>NaN</td>\n",
       "    </tr>\n",
       "    <tr>\n",
       "      <th>8527</th>\n",
       "      <td>22455295</td>\n",
       "      <td>NaN</td>\n",
       "      <td>1583040709</td>\n",
       "      <td>22455124</td>\n",
       "      <td>NaN</td>\n",
       "      <td>NaN</td>\n",
       "    </tr>\n",
       "    <tr>\n",
       "      <th>8529</th>\n",
       "      <td>22455297</td>\n",
       "      <td>NaN</td>\n",
       "      <td>1583040766</td>\n",
       "      <td>22455216</td>\n",
       "      <td>NaN</td>\n",
       "      <td>NaN</td>\n",
       "    </tr>\n",
       "    <tr>\n",
       "      <th>8585</th>\n",
       "      <td>22455362</td>\n",
       "      <td>NaN</td>\n",
       "      <td>1583042013</td>\n",
       "      <td>22446646</td>\n",
       "      <td>NaN</td>\n",
       "      <td>NaN</td>\n",
       "    </tr>\n",
       "    <tr>\n",
       "      <th>8815</th>\n",
       "      <td>22455624</td>\n",
       "      <td>NaN</td>\n",
       "      <td>1583047052</td>\n",
       "      <td>22455576</td>\n",
       "      <td>NaN</td>\n",
       "      <td>NaN</td>\n",
       "    </tr>\n",
       "  </tbody>\n",
       "</table>\n",
       "<p>251 rows × 6 columns</p>\n",
       "</div>"
      ],
      "text/plain": [
       "            id   by        time    parent text kids\n",
       "29    22445669  NaN  1582918891  22445076  NaN  NaN\n",
       "46    22445688  NaN  1582919069  22440816  NaN  NaN\n",
       "96    22445751  NaN  1582919555  22443363  NaN  NaN\n",
       "111   22445767  NaN  1582919643  22444523  NaN  NaN\n",
       "161   22445824  NaN  1582920121  22443968  NaN  NaN\n",
       "...        ...  ...         ...       ...  ...  ...\n",
       "8467  22455230  NaN  1583039390  22455128  NaN  NaN\n",
       "8527  22455295  NaN  1583040709  22455124  NaN  NaN\n",
       "8529  22455297  NaN  1583040766  22455216  NaN  NaN\n",
       "8585  22455362  NaN  1583042013  22446646  NaN  NaN\n",
       "8815  22455624  NaN  1583047052  22455576  NaN  NaN\n",
       "\n",
       "[251 rows x 6 columns]"
      ]
     },
     "execution_count": 21,
     "metadata": {},
     "output_type": "execute_result"
    }
   ],
   "source": [
    "df.loc[df['by'].isnull() == True]"
   ]
  },
  {
   "cell_type": "code",
   "execution_count": 22,
   "metadata": {},
   "outputs": [
    {
     "data": {
      "text/html": [
       "<div>\n",
       "<style scoped>\n",
       "    .dataframe tbody tr th:only-of-type {\n",
       "        vertical-align: middle;\n",
       "    }\n",
       "\n",
       "    .dataframe tbody tr th {\n",
       "        vertical-align: top;\n",
       "    }\n",
       "\n",
       "    .dataframe thead th {\n",
       "        text-align: right;\n",
       "    }\n",
       "</style>\n",
       "<table border=\"1\" class=\"dataframe\">\n",
       "  <thead>\n",
       "    <tr style=\"text-align: right;\">\n",
       "      <th></th>\n",
       "      <th>id</th>\n",
       "      <th>by</th>\n",
       "      <th>time</th>\n",
       "      <th>parent</th>\n",
       "      <th>text</th>\n",
       "      <th>kids</th>\n",
       "    </tr>\n",
       "  </thead>\n",
       "  <tbody>\n",
       "    <tr>\n",
       "      <th>0</th>\n",
       "      <td>22445632</td>\n",
       "      <td>Apocryphon</td>\n",
       "      <td>1582918645</td>\n",
       "      <td>22443772</td>\n",
       "      <td>Andrew Walz&amp;#x2F;Deez Nuts unity ticket 2020</td>\n",
       "      <td>NaN</td>\n",
       "    </tr>\n",
       "    <tr>\n",
       "      <th>1</th>\n",
       "      <td>22445633</td>\n",
       "      <td>Animats</td>\n",
       "      <td>1582918658</td>\n",
       "      <td>22440816</td>\n",
       "      <td>Those are called &amp;quot;multi-chip modules&amp;quot...</td>\n",
       "      <td>NaN</td>\n",
       "    </tr>\n",
       "    <tr>\n",
       "      <th>2</th>\n",
       "      <td>22445634</td>\n",
       "      <td>munk-a</td>\n",
       "      <td>1582918668</td>\n",
       "      <td>22445244</td>\n",
       "      <td>I also generally think that writing boilerplat...</td>\n",
       "      <td>NaN</td>\n",
       "    </tr>\n",
       "  </tbody>\n",
       "</table>\n",
       "</div>"
      ],
      "text/plain": [
       "         id          by        time    parent  \\\n",
       "0  22445632  Apocryphon  1582918645  22443772   \n",
       "1  22445633     Animats  1582918658  22440816   \n",
       "2  22445634      munk-a  1582918668  22445244   \n",
       "\n",
       "                                                text kids  \n",
       "0       Andrew Walz&#x2F;Deez Nuts unity ticket 2020  NaN  \n",
       "1  Those are called &quot;multi-chip modules&quot...  NaN  \n",
       "2  I also generally think that writing boilerplat...  NaN  "
      ]
     },
     "execution_count": 22,
     "metadata": {},
     "output_type": "execute_result"
    }
   ],
   "source": [
    "df.head(3)"
   ]
  },
  {
   "cell_type": "markdown",
   "metadata": {},
   "source": [
    "### Text"
   ]
  },
  {
   "cell_type": "code",
   "execution_count": 23,
   "metadata": {},
   "outputs": [],
   "source": [
    "import re"
   ]
  },
  {
   "cell_type": "code",
   "execution_count": 24,
   "metadata": {},
   "outputs": [],
   "source": [
    "## TODO: Some issue with dtype in text column some comments return empty after regex\n",
    "patt = {\n",
    "            \"unicode_patt\": \"&.{4}(?=;);\",\n",
    "            \"line_break\":   \"<p>\",\n",
    "            \"href_patt\":    \"<a.*</a>\",\n",
    "            \"quote\":        \"&quot;\",\n",
    "            \"html_footnote\": '\\[.\\]'\n",
    "        }\n",
    "    \n",
    "r = rf'|'.join(patt.values())\n",
    "    \n",
    "def scrub(doc):\n",
    "    return re.sub(r, '', str(doc))    "
   ]
  },
  {
   "cell_type": "code",
   "execution_count": 25,
   "metadata": {},
   "outputs": [
    {
     "data": {
      "text/plain": [
       "'&.{4}(?=;);|<p>|<a.*</a>|&quot;|\\\\[.\\\\]'"
      ]
     },
     "execution_count": 25,
     "metadata": {},
     "output_type": "execute_result"
    }
   ],
   "source": [
    "r"
   ]
  },
  {
   "cell_type": "code",
   "execution_count": 26,
   "metadata": {},
   "outputs": [
    {
     "data": {
      "text/html": [
       "<div>\n",
       "<style scoped>\n",
       "    .dataframe tbody tr th:only-of-type {\n",
       "        vertical-align: middle;\n",
       "    }\n",
       "\n",
       "    .dataframe tbody tr th {\n",
       "        vertical-align: top;\n",
       "    }\n",
       "\n",
       "    .dataframe thead th {\n",
       "        text-align: right;\n",
       "    }\n",
       "</style>\n",
       "<table border=\"1\" class=\"dataframe\">\n",
       "  <thead>\n",
       "    <tr style=\"text-align: right;\">\n",
       "      <th></th>\n",
       "      <th>id</th>\n",
       "      <th>by</th>\n",
       "      <th>time</th>\n",
       "      <th>parent</th>\n",
       "      <th>text</th>\n",
       "      <th>kids</th>\n",
       "    </tr>\n",
       "  </thead>\n",
       "  <tbody>\n",
       "    <tr>\n",
       "      <th>0</th>\n",
       "      <td>22445632</td>\n",
       "      <td>Apocryphon</td>\n",
       "      <td>1582918645</td>\n",
       "      <td>22443772</td>\n",
       "      <td>Andrew WalzDeez Nuts unity ticket 2020</td>\n",
       "      <td>NaN</td>\n",
       "    </tr>\n",
       "    <tr>\n",
       "      <th>1</th>\n",
       "      <td>22445633</td>\n",
       "      <td>Animats</td>\n",
       "      <td>1582918658</td>\n",
       "      <td>22440816</td>\n",
       "      <td>Those are called multi-chip modules. The Penti...</td>\n",
       "      <td>NaN</td>\n",
       "    </tr>\n",
       "    <tr>\n",
       "      <th>2</th>\n",
       "      <td>22445634</td>\n",
       "      <td>munk-a</td>\n",
       "      <td>1582918668</td>\n",
       "      <td>22445244</td>\n",
       "      <td>I also generally think that writing boilerplat...</td>\n",
       "      <td>NaN</td>\n",
       "    </tr>\n",
       "    <tr>\n",
       "      <th>3</th>\n",
       "      <td>22445636</td>\n",
       "      <td>fapi1974</td>\n",
       "      <td>1582918669</td>\n",
       "      <td>22443146</td>\n",
       "      <td>Just wanted to say this is what I was looking ...</td>\n",
       "      <td>NaN</td>\n",
       "    </tr>\n",
       "    <tr>\n",
       "      <th>4</th>\n",
       "      <td>22445637</td>\n",
       "      <td>acqq</td>\n",
       "      <td>1582918676</td>\n",
       "      <td>22443536</td>\n",
       "      <td>This is the article Day 4. For a bit of contex...</td>\n",
       "      <td>[22445691]</td>\n",
       "    </tr>\n",
       "    <tr>\n",
       "      <th>...</th>\n",
       "      <td>...</td>\n",
       "      <td>...</td>\n",
       "      <td>...</td>\n",
       "      <td>...</td>\n",
       "      <td>...</td>\n",
       "      <td>...</td>\n",
       "    </tr>\n",
       "    <tr>\n",
       "      <th>8817</th>\n",
       "      <td>22455626</td>\n",
       "      <td>nl</td>\n",
       "      <td>1583047100</td>\n",
       "      <td>22455217</td>\n",
       "      <td>Go is used at a bunch of major companies outsi...</td>\n",
       "      <td>NaN</td>\n",
       "    </tr>\n",
       "    <tr>\n",
       "      <th>8818</th>\n",
       "      <td>22455627</td>\n",
       "      <td>pjmlp</td>\n",
       "      <td>1583047213</td>\n",
       "      <td>22454235</td>\n",
       "      <td>Strange, somehow that is exactly what we were ...</td>\n",
       "      <td>[22455654]</td>\n",
       "    </tr>\n",
       "    <tr>\n",
       "      <th>8819</th>\n",
       "      <td>22455629</td>\n",
       "      <td>lethisaputri</td>\n",
       "      <td>1583047378</td>\n",
       "      <td>22454333</td>\n",
       "      <td>ok</td>\n",
       "      <td>NaN</td>\n",
       "    </tr>\n",
       "    <tr>\n",
       "      <th>8820</th>\n",
       "      <td>22455630</td>\n",
       "      <td>looping__lui</td>\n",
       "      <td>1583047403</td>\n",
       "      <td>22455017</td>\n",
       "      <td>This sounds like a dysfunctional company to me...</td>\n",
       "      <td>NaN</td>\n",
       "    </tr>\n",
       "    <tr>\n",
       "      <th>8821</th>\n",
       "      <td>22455631</td>\n",
       "      <td>raz32dust</td>\n",
       "      <td>1583047404</td>\n",
       "      <td>22455407</td>\n",
       "      <td>I didnt mean documentation at the code level -...</td>\n",
       "      <td>NaN</td>\n",
       "    </tr>\n",
       "  </tbody>\n",
       "</table>\n",
       "<p>8822 rows × 6 columns</p>\n",
       "</div>"
      ],
      "text/plain": [
       "            id            by        time    parent  \\\n",
       "0     22445632    Apocryphon  1582918645  22443772   \n",
       "1     22445633       Animats  1582918658  22440816   \n",
       "2     22445634        munk-a  1582918668  22445244   \n",
       "3     22445636      fapi1974  1582918669  22443146   \n",
       "4     22445637          acqq  1582918676  22443536   \n",
       "...        ...           ...         ...       ...   \n",
       "8817  22455626            nl  1583047100  22455217   \n",
       "8818  22455627         pjmlp  1583047213  22454235   \n",
       "8819  22455629  lethisaputri  1583047378  22454333   \n",
       "8820  22455630  looping__lui  1583047403  22455017   \n",
       "8821  22455631     raz32dust  1583047404  22455407   \n",
       "\n",
       "                                                   text        kids  \n",
       "0                Andrew WalzDeez Nuts unity ticket 2020         NaN  \n",
       "1     Those are called multi-chip modules. The Penti...         NaN  \n",
       "2     I also generally think that writing boilerplat...         NaN  \n",
       "3     Just wanted to say this is what I was looking ...         NaN  \n",
       "4     This is the article Day 4. For a bit of contex...  [22445691]  \n",
       "...                                                 ...         ...  \n",
       "8817  Go is used at a bunch of major companies outsi...         NaN  \n",
       "8818  Strange, somehow that is exactly what we were ...  [22455654]  \n",
       "8819                                                 ok         NaN  \n",
       "8820  This sounds like a dysfunctional company to me...         NaN  \n",
       "8821  I didnt mean documentation at the code level -...         NaN  \n",
       "\n",
       "[8822 rows x 6 columns]"
      ]
     },
     "execution_count": 26,
     "metadata": {},
     "output_type": "execute_result"
    }
   ],
   "source": [
    "df['text'] =  df['text'].apply(scrub)\n",
    "df"
   ]
  },
  {
   "cell_type": "code",
   "execution_count": 27,
   "metadata": {},
   "outputs": [],
   "source": [
    "# curiosity\n",
    "\n",
    "r = '|'.join(patt.values())\n",
    "t = re.compile(r)\n",
    "\n",
    "    \n",
    "regex = '|'.join(patt.values())"
   ]
  },
  {
   "cell_type": "code",
   "execution_count": 28,
   "metadata": {},
   "outputs": [
    {
     "data": {
      "text/html": [
       "<div>\n",
       "<style scoped>\n",
       "    .dataframe tbody tr th:only-of-type {\n",
       "        vertical-align: middle;\n",
       "    }\n",
       "\n",
       "    .dataframe tbody tr th {\n",
       "        vertical-align: top;\n",
       "    }\n",
       "\n",
       "    .dataframe thead th {\n",
       "        text-align: right;\n",
       "    }\n",
       "</style>\n",
       "<table border=\"1\" class=\"dataframe\">\n",
       "  <thead>\n",
       "    <tr style=\"text-align: right;\">\n",
       "      <th></th>\n",
       "      <th>id</th>\n",
       "      <th>by</th>\n",
       "      <th>time</th>\n",
       "      <th>parent</th>\n",
       "      <th>text</th>\n",
       "      <th>kids</th>\n",
       "    </tr>\n",
       "  </thead>\n",
       "  <tbody>\n",
       "    <tr>\n",
       "      <th>0</th>\n",
       "      <td>22445632</td>\n",
       "      <td>Apocryphon</td>\n",
       "      <td>1582918645</td>\n",
       "      <td>22443772</td>\n",
       "      <td>Andrew WalzDeez Nuts unity ticket 2020</td>\n",
       "      <td>NaN</td>\n",
       "    </tr>\n",
       "    <tr>\n",
       "      <th>1</th>\n",
       "      <td>22445633</td>\n",
       "      <td>Animats</td>\n",
       "      <td>1582918658</td>\n",
       "      <td>22440816</td>\n",
       "      <td>Those are called multi-chip modules. The Penti...</td>\n",
       "      <td>NaN</td>\n",
       "    </tr>\n",
       "    <tr>\n",
       "      <th>2</th>\n",
       "      <td>22445634</td>\n",
       "      <td>munk-a</td>\n",
       "      <td>1582918668</td>\n",
       "      <td>22445244</td>\n",
       "      <td>I also generally think that writing boilerplat...</td>\n",
       "      <td>NaN</td>\n",
       "    </tr>\n",
       "    <tr>\n",
       "      <th>3</th>\n",
       "      <td>22445636</td>\n",
       "      <td>fapi1974</td>\n",
       "      <td>1582918669</td>\n",
       "      <td>22443146</td>\n",
       "      <td>Just wanted to say this is what I was looking ...</td>\n",
       "      <td>NaN</td>\n",
       "    </tr>\n",
       "    <tr>\n",
       "      <th>4</th>\n",
       "      <td>22445637</td>\n",
       "      <td>acqq</td>\n",
       "      <td>1582918676</td>\n",
       "      <td>22443536</td>\n",
       "      <td>This is the article Day 4. For a bit of contex...</td>\n",
       "      <td>[22445691]</td>\n",
       "    </tr>\n",
       "    <tr>\n",
       "      <th>...</th>\n",
       "      <td>...</td>\n",
       "      <td>...</td>\n",
       "      <td>...</td>\n",
       "      <td>...</td>\n",
       "      <td>...</td>\n",
       "      <td>...</td>\n",
       "    </tr>\n",
       "    <tr>\n",
       "      <th>8817</th>\n",
       "      <td>22455626</td>\n",
       "      <td>nl</td>\n",
       "      <td>1583047100</td>\n",
       "      <td>22455217</td>\n",
       "      <td>Go is used at a bunch of major companies outsi...</td>\n",
       "      <td>NaN</td>\n",
       "    </tr>\n",
       "    <tr>\n",
       "      <th>8818</th>\n",
       "      <td>22455627</td>\n",
       "      <td>pjmlp</td>\n",
       "      <td>1583047213</td>\n",
       "      <td>22454235</td>\n",
       "      <td>Strange, somehow that is exactly what we were ...</td>\n",
       "      <td>[22455654]</td>\n",
       "    </tr>\n",
       "    <tr>\n",
       "      <th>8819</th>\n",
       "      <td>22455629</td>\n",
       "      <td>lethisaputri</td>\n",
       "      <td>1583047378</td>\n",
       "      <td>22454333</td>\n",
       "      <td>ok</td>\n",
       "      <td>NaN</td>\n",
       "    </tr>\n",
       "    <tr>\n",
       "      <th>8820</th>\n",
       "      <td>22455630</td>\n",
       "      <td>looping__lui</td>\n",
       "      <td>1583047403</td>\n",
       "      <td>22455017</td>\n",
       "      <td>This sounds like a dysfunctional company to me...</td>\n",
       "      <td>NaN</td>\n",
       "    </tr>\n",
       "    <tr>\n",
       "      <th>8821</th>\n",
       "      <td>22455631</td>\n",
       "      <td>raz32dust</td>\n",
       "      <td>1583047404</td>\n",
       "      <td>22455407</td>\n",
       "      <td>I didnt mean documentation at the code level -...</td>\n",
       "      <td>NaN</td>\n",
       "    </tr>\n",
       "  </tbody>\n",
       "</table>\n",
       "<p>8822 rows × 6 columns</p>\n",
       "</div>"
      ],
      "text/plain": [
       "            id            by        time    parent  \\\n",
       "0     22445632    Apocryphon  1582918645  22443772   \n",
       "1     22445633       Animats  1582918658  22440816   \n",
       "2     22445634        munk-a  1582918668  22445244   \n",
       "3     22445636      fapi1974  1582918669  22443146   \n",
       "4     22445637          acqq  1582918676  22443536   \n",
       "...        ...           ...         ...       ...   \n",
       "8817  22455626            nl  1583047100  22455217   \n",
       "8818  22455627         pjmlp  1583047213  22454235   \n",
       "8819  22455629  lethisaputri  1583047378  22454333   \n",
       "8820  22455630  looping__lui  1583047403  22455017   \n",
       "8821  22455631     raz32dust  1583047404  22455407   \n",
       "\n",
       "                                                   text        kids  \n",
       "0                Andrew WalzDeez Nuts unity ticket 2020         NaN  \n",
       "1     Those are called multi-chip modules. The Penti...         NaN  \n",
       "2     I also generally think that writing boilerplat...         NaN  \n",
       "3     Just wanted to say this is what I was looking ...         NaN  \n",
       "4     This is the article Day 4. For a bit of contex...  [22445691]  \n",
       "...                                                 ...         ...  \n",
       "8817  Go is used at a bunch of major companies outsi...         NaN  \n",
       "8818  Strange, somehow that is exactly what we were ...  [22455654]  \n",
       "8819                                                 ok         NaN  \n",
       "8820  This sounds like a dysfunctional company to me...         NaN  \n",
       "8821  I didnt mean documentation at the code level -...         NaN  \n",
       "\n",
       "[8822 rows x 6 columns]"
      ]
     },
     "execution_count": 28,
     "metadata": {},
     "output_type": "execute_result"
    }
   ],
   "source": [
    "df"
   ]
  },
  {
   "cell_type": "code",
   "execution_count": 29,
   "metadata": {},
   "outputs": [],
   "source": [
    "dfs = df.sample(500)"
   ]
  },
  {
   "cell_type": "code",
   "execution_count": 30,
   "metadata": {},
   "outputs": [
    {
     "name": "stdout",
     "output_type": "stream",
     "text": [
      "CPU times: user 2.53 ms, sys: 0 ns, total: 2.53 ms\n",
      "Wall time: 2.47 ms\n"
     ]
    },
    {
     "data": {
      "text/plain": [
       "5093    My fav part is he gave it and failed the candi...\n",
       "3163    There are not “a lot” of reinfected. There are...\n",
       "4920    &gt; executives want to believe in magic solut...\n",
       "1063    I think a problem with this analogy is you are...\n",
       "2021    Drawing things out so that youre not sick at t...\n",
       "                              ...                        \n",
       "1944    Based on what exactly?  This thing seems to su...\n",
       "3548    A lot of these services get quite expensive ve...\n",
       "5038      Is there a link which doesnt use a cookie wall?\n",
       "7003    One of the biggest mistakes in IT ever, in my ...\n",
       "4431    ... except its the same answer, only their res...\n",
       "Name: text, Length: 500, dtype: object"
      ]
     },
     "execution_count": 30,
     "metadata": {},
     "output_type": "execute_result"
    }
   ],
   "source": [
    "%%time\n",
    "\n",
    "def drag(o):\n",
    "    return re.sub(r, \"\", o)\n",
    "\n",
    "dfs['text'].apply(drag)"
   ]
  },
  {
   "cell_type": "code",
   "execution_count": 31,
   "metadata": {},
   "outputs": [
    {
     "name": "stdout",
     "output_type": "stream",
     "text": [
      "CPU times: user 3.56 ms, sys: 16 µs, total: 3.57 ms\n",
      "Wall time: 4.11 ms\n"
     ]
    },
    {
     "data": {
      "text/plain": [
       "5093    My fav part is he gave it and failed the candi...\n",
       "3163    There are not “a lot” of reinfected. There are...\n",
       "4920    &gt; executives want to believe in magic solut...\n",
       "1063    I think a problem with this analogy is you are...\n",
       "2021    Drawing things out so that youre not sick at t...\n",
       "                              ...                        \n",
       "1944    Based on what exactly?  This thing seems to su...\n",
       "3548    A lot of these services get quite expensive ve...\n",
       "5038      Is there a link which doesnt use a cookie wall?\n",
       "7003    One of the biggest mistakes in IT ever, in my ...\n",
       "4431    ... except its the same answer, only their res...\n",
       "Name: text, Length: 500, dtype: object"
      ]
     },
     "execution_count": 31,
     "metadata": {},
     "output_type": "execute_result"
    }
   ],
   "source": [
    "%%time\n",
    "\n",
    "def drag(o):\n",
    "    return re.sub(t, \"\", str(o))\n",
    "\n",
    "dfs['text'].apply(drag)"
   ]
  },
  {
   "cell_type": "code",
   "execution_count": null,
   "metadata": {},
   "outputs": [],
   "source": []
  }
 ],
 "metadata": {
  "kernelspec": {
   "display_name": "Python 3",
   "language": "python",
   "name": "python3"
  },
  "language_info": {
   "codemirror_mode": {
    "name": "ipython",
    "version": 3
   },
   "file_extension": ".py",
   "mimetype": "text/x-python",
   "name": "python",
   "nbconvert_exporter": "python",
   "pygments_lexer": "ipython3",
   "version": "3.8.1"
  }
 },
 "nbformat": 4,
 "nbformat_minor": 4
}
