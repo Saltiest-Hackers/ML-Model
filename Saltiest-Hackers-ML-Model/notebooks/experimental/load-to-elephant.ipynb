{
 "cells": [
  {
   "cell_type": "code",
   "execution_count": 27,
   "metadata": {},
   "outputs": [],
   "source": [
    "import psycopg2\n",
    "from decouple import config\n",
    "\n",
    "!. ../.env\n",
    "\n",
    "conn = psycopg2.connect(\"postgres://\" + config(\"POSTGRES_USERNAME\") + \":\" + config(\"POSTGRES_PASSWORD\") + \"@raja.db.elephantsql.com:5432/mozfsrjp\")\n",
    "curs = conn.cursor()"
   ]
  },
  {
   "cell_type": "code",
   "execution_count": 28,
   "metadata": {},
   "outputs": [],
   "source": [
    "curs.execute(\"\"\"\n",
    "    DROP TABLE comments;\n",
    "\"\"\")"
   ]
  },
  {
   "cell_type": "code",
   "execution_count": 29,
   "metadata": {},
   "outputs": [],
   "source": [
    "curs.execute(\"\"\"\n",
    "    CREATE TABLE comments (\n",
    "        id BIGINT PRIMARY KEY,\n",
    "        author VARCHAR(100),\n",
    "        time BIGINT,\n",
    "        comment_text TEXT,\n",
    "        parent_id BIGINT\n",
    "    );\n",
    "\"\"\")"
   ]
  },
  {
   "cell_type": "code",
   "execution_count": 30,
   "metadata": {},
   "outputs": [],
   "source": [
    "curs.close()\n",
    "conn.commit()"
   ]
  },
  {
   "cell_type": "markdown",
   "metadata": {},
   "source": [
    "### Load the CSV"
   ]
  },
  {
   "cell_type": "code",
   "execution_count": 31,
   "metadata": {},
   "outputs": [],
   "source": [
    "import re\n",
    "\n",
    "def escape_string(text):\n",
    "    try:\n",
    "        text = re.sub(r\"\\\"\", \"\\\\\\\"\", text)\n",
    "        text = re.sub(r\"'\", \"\\\\'\", text)\n",
    "        return text\n",
    "    except:\n",
    "        return \"-\"\n",
    "\n",
    "def convertInt(x):\n",
    "    try:\n",
    "        return int(x)\n",
    "    except:\n",
    "        return -1"
   ]
  },
  {
   "cell_type": "code",
   "execution_count": 32,
   "metadata": {},
   "outputs": [],
   "source": [
    "import pandas as pd\n",
    "\n",
    "hn_df = pd.read_csv(\"../csv/most_recent_1_5mm.csv\")"
   ]
  },
  {
   "cell_type": "code",
   "execution_count": 33,
   "metadata": {},
   "outputs": [],
   "source": [
    "top_1000 = hn_df[\"author\"].value_counts().index[:1000]\n",
    "hn_df = hn_df[hn_df[\"author\"].isin(top_1000)]"
   ]
  },
  {
   "cell_type": "code",
   "execution_count": 34,
   "metadata": {},
   "outputs": [
    {
     "name": "stdout",
     "output_type": "stream",
     "text": [
      "Batch 0 / 447642 -- 0.00%\n",
      "Batch 10000 / 447642 -- 2.23%\n",
      "Batch 20000 / 447642 -- 4.47%\n",
      "Batch 30000 / 447642 -- 6.70%\n",
      "Batch 40000 / 447642 -- 8.94%\n",
      "Batch 50000 / 447642 -- 11.17%\n",
      "Batch 60000 / 447642 -- 13.40%\n",
      "Batch 70000 / 447642 -- 15.64%\n",
      "Batch 80000 / 447642 -- 17.87%\n",
      "Batch 90000 / 447642 -- 20.11%\n",
      "Batch 100000 / 447642 -- 22.34%\n",
      "Batch 110000 / 447642 -- 24.57%\n",
      "Batch 120000 / 447642 -- 26.81%\n",
      "Batch 130000 / 447642 -- 29.04%\n",
      "Batch 140000 / 447642 -- 31.27%\n",
      "Batch 150000 / 447642 -- 33.51%\n",
      "Batch 160000 / 447642 -- 35.74%\n",
      "Batch 170000 / 447642 -- 37.98%\n",
      "Batch 180000 / 447642 -- 40.21%\n",
      "Batch 190000 / 447642 -- 42.44%\n",
      "Batch 200000 / 447642 -- 44.68%\n",
      "Batch 210000 / 447642 -- 46.91%\n",
      "Batch 220000 / 447642 -- 49.15%\n",
      "Batch 230000 / 447642 -- 51.38%\n",
      "Batch 240000 / 447642 -- 53.61%\n",
      "Batch 250000 / 447642 -- 55.85%\n",
      "Batch 260000 / 447642 -- 58.08%\n",
      "Batch 270000 / 447642 -- 60.32%\n",
      "Batch 280000 / 447642 -- 62.55%\n",
      "Batch 290000 / 447642 -- 64.78%\n",
      "Batch 300000 / 447642 -- 67.02%\n",
      "Batch 310000 / 447642 -- 69.25%\n",
      "Batch 320000 / 447642 -- 71.49%\n",
      "Batch 330000 / 447642 -- 73.72%\n",
      "Batch 340000 / 447642 -- 75.95%\n",
      "Batch 350000 / 447642 -- 78.19%\n",
      "Batch 360000 / 447642 -- 80.42%\n",
      "Batch 370000 / 447642 -- 82.66%\n",
      "Batch 380000 / 447642 -- 84.89%\n",
      "Batch 390000 / 447642 -- 87.12%\n",
      "Batch 400000 / 447642 -- 89.36%\n",
      "Batch 410000 / 447642 -- 91.59%\n",
      "Batch 420000 / 447642 -- 93.82%\n",
      "Batch 430000 / 447642 -- 96.06%\n",
      "Batch 440000 / 447642 -- 98.29%\n"
     ]
    }
   ],
   "source": [
    "batchsize = 10000\n",
    "import numpy as np\n",
    "\n",
    "for ix in range(0, len(hn_df)+1, batchsize):\n",
    "    print(f\"Batch {ix} / {len(hn_df)} -- {ix/len(hn_df)*100:.2f}%\")\n",
    "    batch = hn_df[ix:ix+batchsize]\n",
    "    \n",
    "    batch = [\n",
    "        [row[1][1], row[1][2], row[1][3], escape_string(row[1][4]), convertInt(row[1][7])]\n",
    "        for row in batch.iterrows()\n",
    "    ]\n",
    "    \n",
    "    query = \"\"\"\n",
    "        INSERT INTO comments (id, author, time, comment_text, parent_id)\n",
    "        VALUES\n",
    "    \"\"\" + \",\".join(\n",
    "        [f\"({row[0]}, '{row[1]}', {row[2]}, '{row[3]}', {row[4]})\"\n",
    "            for row in batch\n",
    "    ]) + \";\"\n",
    "    \n",
    "    curs = conn.cursor()\n",
    "    curs.execute(query)\n",
    "    curs.close()"
   ]
  },
  {
   "cell_type": "code",
   "execution_count": 35,
   "metadata": {},
   "outputs": [],
   "source": [
    "conn.commit()"
   ]
  },
  {
   "cell_type": "code",
   "execution_count": 36,
   "metadata": {},
   "outputs": [],
   "source": [
    "query = \"\"\"\n",
    "    SELECT *\n",
    "    FROM comments\n",
    "    LIMIT 1000\n",
    "\"\"\"\n",
    "curs = conn.cursor()\n",
    "curs.execute(query)\n",
    "res = curs.fetchall()"
   ]
  },
  {
   "cell_type": "code",
   "execution_count": 37,
   "metadata": {},
   "outputs": [
    {
     "data": {
      "text/plain": [
       "(20954036,\n",
       " 'jcranmer',\n",
       " 1568309291,\n",
       " 'ISO C already mandates that most of its library is optional for &quot;freestanding&quot; implementations. (float.h, iso646.h, limits.h, stdalign.h, stdarg.h, stdbool.h, stddef.h, stdint.h, and stdnoreturn.h are the only headers required even for freestanding implementations).',\n",
       " 20953637)"
      ]
     },
     "execution_count": 37,
     "metadata": {},
     "output_type": "execute_result"
    }
   ],
   "source": [
    "res[0]"
   ]
  },
  {
   "cell_type": "code",
   "execution_count": 38,
   "metadata": {},
   "outputs": [
    {
     "data": {
      "text/plain": [
       "(20954041,\n",
       " 'benj111',\n",
       " 1568309337,\n",
       " 'I just assumed that most people would know that Dublin was on the blob, just off the coast of the slightly larger blob, just off the coast of (mainland) Europe. Which on the scales involved, is close enough.',\n",
       " 20953953)"
      ]
     },
     "execution_count": 38,
     "metadata": {},
     "output_type": "execute_result"
    }
   ],
   "source": [
    "res[1]"
   ]
  },
  {
   "cell_type": "code",
   "execution_count": null,
   "metadata": {},
   "outputs": [],
   "source": []
  }
 ],
 "metadata": {
  "kernelspec": {
   "display_name": "Python 3",
   "language": "python",
   "name": "python3"
  },
  "language_info": {
   "codemirror_mode": {
    "name": "ipython",
    "version": 3
   },
   "file_extension": ".py",
   "mimetype": "text/x-python",
   "name": "python",
   "nbconvert_exporter": "python",
   "pygments_lexer": "ipython3",
   "version": "3.6.9"
  }
 },
 "nbformat": 4,
 "nbformat_minor": 4
}
